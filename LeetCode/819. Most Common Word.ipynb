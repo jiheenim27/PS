{
 "cells": [
  {
   "cell_type": "code",
   "execution_count": 61,
   "metadata": {},
   "outputs": [],
   "source": [
    "import re\n",
    "from typing import List\n",
    "def find_most_common_word(paragraph: str, banned: List[str]) -> str:\n",
    "    words = re.sub(r'\\W',' ',paragraph).lower().split()\n",
    "    # banned 제거\n",
    "    for ban in banned:\n",
    "        while (ban in words):\n",
    "            words.remove(ban)\n",
    "    set_words = set(words)\n",
    "    res = []\n",
    "    for word in set_words:\n",
    "        count = words.count(word)\n",
    "        res.append((word, count))\n",
    "    res.sort(key=lambda x: x[1], reverse=True)\n",
    "    return res[0][0]"
   ]
  }
 ],
 "metadata": {
  "kernelspec": {
   "display_name": "Python 3",
   "language": "python",
   "name": "python3"
  },
  "language_info": {
   "codemirror_mode": {
    "name": "ipython",
    "version": 3
   },
   "file_extension": ".py",
   "mimetype": "text/x-python",
   "name": "python",
   "nbconvert_exporter": "python",
   "pygments_lexer": "ipython3",
   "version": "3.7.6"
  }
 },
 "nbformat": 4,
 "nbformat_minor": 4
}
